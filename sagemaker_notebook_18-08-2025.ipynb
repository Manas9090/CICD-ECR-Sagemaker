{
 "cells": [
  {
   "cell_type": "code",
   "execution_count": 2,
   "id": "3f8f9f47-5e06-4bde-bd24-5cf80db7a695",
   "metadata": {},
   "outputs": [
    {
     "name": "stdout",
     "output_type": "stream",
     "text": [
      "----!"
     ]
    }
   ],
   "source": [
    "###### Model Deployment in Sagemaker #########\n",
    "##############################################\n",
    "import boto3\n",
    "from sagemaker.model import Model\n",
    "from sagemaker import get_execution_role, Session \n",
    "\n",
    "role = get_execution_role()\n",
    "session = Session()\n",
    "\n",
    "ecr_image = '491085388405.dkr.ecr.us-east-1.amazonaws.com/fraud-ecr-1808:v1'\n",
    "\n",
    "model = Model(\n",
    "    image_uri=ecr_image,\n",
    "    role=role,\n",
    "    sagemaker_session=session \n",
    ")\n",
    "\n",
    "predictor = model.deploy(\n",
    "    initial_instance_count=1,\n",
    "    instance_type='ml.m5.large',\n",
    "    endpoint_name='fraud-ml-endpoint'\n",
    ")"
   ]
  },
  {
   "cell_type": "code",
   "execution_count": 15,
   "id": "022e317c-3116-4fc2-8e62-bd19e344d8c6",
   "metadata": {},
   "outputs": [
    {
     "name": "stdout",
     "output_type": "stream",
     "text": [
      "Prediction: {\"predictions\":[0]}\n",
      "\n"
     ]
    }
   ],
   "source": [
    "######## Inference using one row of Sample Data #########\n",
    "#########################################################\n",
    "import boto3\n",
    "import json\n",
    "\n",
    "# Create SageMaker runtime client\n",
    "client = boto3.client('sagemaker-runtime', region_name='us-east-1')  # update region if needed\n",
    "\n",
    "# Sample input — should match model's expected feature shape and order\n",
    "payload = {\n",
    "    \"inputs\": [[18.0, 1.0, 100987.0, 120870.0, 2.0, 2.0, 1.0, 1.0, 0.0, 0.0]]\n",
    "}\n",
    "\n",
    "# Invoke the deployed endpoint\n",
    "response = client.invoke_endpoint(\n",
    "    EndpointName='fraud-ml-endpoint',  # Make sure this matches exactly\n",
    "    Body=json.dumps(payload),\n",
    "    ContentType='application/json'\n",
    ")\n",
    "\n",
    "# Read and decode the prediction\n",
    "result = response['Body'].read().decode('utf-8')\n",
    "print(\"Prediction:\", result)\n"
   ]
  },
  {
   "cell_type": "code",
   "execution_count": 16,
   "id": "b753bee1-8919-4f94-93ff-f2e75f5e8b68",
   "metadata": {},
   "outputs": [
    {
     "name": "stdout",
     "output_type": "stream",
     "text": [
      "Prediction: {\"predictions\":[0,0]}\n",
      "\n"
     ]
    }
   ],
   "source": [
    "######## Inference using two rows of Sample Data #########\n",
    "##########################################################\n",
    "import boto3\n",
    "import json\n",
    "\n",
    "# Create SageMaker runtime client\n",
    "client = boto3.client('sagemaker-runtime', region_name='us-east-1')  # update region if needed\n",
    "\n",
    "# Sample input — should match model's expected feature shape and order\n",
    "# payload = {\n",
    "#     \"inputs\": [[18.0, 1.0, 100987.0, 120870.0, 2.0, 2.0, 1.0, 1.0, 0.0, 0.0]]\n",
    "# }\n",
    "\n",
    "payload = {\n",
    "    \"inputs\": [\n",
    "        [18.0, 1.0, 100987.0, 120870.0, 2.0, 2.0, 1.0, 1.0, 0.0, 0.0],\n",
    "        [25.0, 0.0, 200000.0, 150000.0, 1.0, 3.0, 0.0, 1.0, 0.0, 1.0]\n",
    "    ]\n",
    "}\n",
    "\n",
    "# Invoke the deployed endpoint\n",
    "response = client.invoke_endpoint(\n",
    "    EndpointName='fraud-ml-endpoint',  # Make sure this matches exactly\n",
    "    Body=json.dumps(payload),\n",
    "    ContentType='application/json'\n",
    ")\n",
    "\n",
    "# Read and decode the prediction\n",
    "result = response['Body'].read().decode('utf-8')\n",
    "print(\"Prediction:\", result)\n"
   ]
  },
  {
   "cell_type": "code",
   "execution_count": null,
   "id": "db6671b7-2aec-4949-a45e-0a5a85764beb",
   "metadata": {},
   "outputs": [],
   "source": [
    "############ To create V2 of the End-point ##########\n",
    "#####################################################\n",
    "\n",
    "import boto3\n",
    "\n",
    "# Initialize SageMaker client (region must match your ECR/SageMaker)\n",
    "sm_client = boto3.client(\"sagemaker\", region_name=\"us-east-1\")\n",
    "\n",
    "role = get_execution_role()\n",
    "\n",
    "\n",
    "response = sm_client.create_model(\n",
    "    ModelName=\"fraud-model-v2\",\n",
    "    PrimaryContainer={\n",
    "        \"Image\": \"491085388405.dkr.ecr.us-east-1.amazonaws.com/fraud-ecr-1808:v2\"\n",
    "    },\n",
    "    ExecutionRoleArn=role\n",
    ")\n",
    "print(\"Model v2 Created:\", response[\"ModelArn\"]) \n"
   ]
  },
  {
   "cell_type": "code",
   "execution_count": 11,
   "id": "e934d9f3-0a7e-4d6b-acfb-9d110238d6cc",
   "metadata": {},
   "outputs": [
    {
     "name": "stdout",
     "output_type": "stream",
     "text": [
      "fraud-model-v2\n",
      "fraud-ecr-1808-2025-08-18-06-57-15-444\n"
     ]
    }
   ],
   "source": [
    "###### To check what are the model names available in the Endpoint ########\n",
    "###########################################################################\n",
    "import boto3\n",
    "\n",
    "sm_client = boto3.client(\"sagemaker\", region_name=\"us-east-1\")\n",
    "\n",
    "response = sm_client.list_models(MaxResults=10)\n",
    "for model in response[\"Models\"]:\n",
    "    print(model[\"ModelName\"])\n"
   ]
  },
  {
   "cell_type": "code",
   "execution_count": 12,
   "id": "3577c593-a24a-47a6-bade-58ec27915a72",
   "metadata": {},
   "outputs": [
    {
     "name": "stdout",
     "output_type": "stream",
     "text": [
      "Created Endpoint Config: fraud-endpoint-config-ab\n"
     ]
    }
   ],
   "source": [
    "########### A/B testing Configuration ##########\n",
    "################################################\n",
    "\n",
    "import boto3\n",
    "\n",
    "sm_client = boto3.client(\"sagemaker\")\n",
    "\n",
    "endpoint_config_name = \"fraud-endpoint-config-ab\"\n",
    "\n",
    "response = sm_client.create_endpoint_config(\n",
    "    EndpointConfigName=endpoint_config_name,\n",
    "    ProductionVariants=[\n",
    "        {\n",
    "            \"VariantName\": \"Variant1\",\n",
    "            \"ModelName\": \"fraud-model-v2\",   # your v2 model\n",
    "            \"InitialInstanceCount\": 1,\n",
    "            \"InstanceType\": \"ml.m5.large\",\n",
    "            \"InitialVariantWeight\": 0.7,   # 70% traffic\n",
    "        },\n",
    "        {\n",
    "            \"VariantName\": \"Variant2\",\n",
    "            \"ModelName\": \"fraud-ecr-1808-2025-08-18-06-57-15-444\",   # your ECR model\n",
    "            \"InitialInstanceCount\": 1,\n",
    "            \"InstanceType\": \"ml.m5.large\",\n",
    "            \"InitialVariantWeight\": 0.3,   # 30% traffic\n",
    "        },\n",
    "    ],\n",
    ")\n",
    "\n",
    "print(\"Created Endpoint Config:\", endpoint_config_name)\n"
   ]
  },
  {
   "cell_type": "code",
   "execution_count": 13,
   "id": "798d3f16-6df8-4fba-a7f6-e55c09adab3a",
   "metadata": {},
   "outputs": [
    {
     "name": "stdout",
     "output_type": "stream",
     "text": [
      "✅ Endpoint created: arn:aws:sagemaker:us-east-1:491085388405:endpoint/fraud-endpoint\n"
     ]
    }
   ],
   "source": [
    "###### create or update the endpoint to use this new endpoint config (fraud-endpoint-config-ab)######\n",
    "#####################################################################################################\n",
    "import boto3\n",
    "\n",
    "sm_client = boto3.client(\"sagemaker\")\n",
    "\n",
    "endpoint_name = \"fraud-endpoint\"\n",
    "\n",
    "response = sm_client.create_endpoint(\n",
    "    EndpointName=endpoint_name,\n",
    "    EndpointConfigName=\"fraud-endpoint-config-ab\"\n",
    ")\n",
    "\n",
    "print(\"✅ Endpoint created:\", response['EndpointArn'])\n"
   ]
  },
  {
   "cell_type": "code",
   "execution_count": 18,
   "id": "db46e332-c9db-43a8-b59e-a7c8271d5095",
   "metadata": {},
   "outputs": [
    {
     "data": {
      "text/html": [
       "<pre style=\"white-space:pre;overflow-x:auto;line-height:normal;font-family:Menlo,'DejaVu Sans Mono',consolas,'Courier New',monospace\"><span style=\"color: #ff0000; text-decoration-color: #ff0000\">╭─────────────────────────────── </span><span style=\"color: #ff0000; text-decoration-color: #ff0000; font-weight: bold\">Traceback </span><span style=\"color: #ff7f7f; text-decoration-color: #ff7f7f; font-weight: bold\">(most recent call last)</span><span style=\"color: #ff0000; text-decoration-color: #ff0000\"> ────────────────────────────────╮</span>\n",
       "<span style=\"color: #ff0000; text-decoration-color: #ff0000\">│</span> in &lt;module&gt;:14                                                                                   <span style=\"color: #ff0000; text-decoration-color: #ff0000\">│</span>\n",
       "<span style=\"color: #ff0000; text-decoration-color: #ff0000\">│</span>                                                                                                  <span style=\"color: #ff0000; text-decoration-color: #ff0000\">│</span>\n",
       "<span style=\"color: #ff0000; text-decoration-color: #ff0000\">│</span>   <span style=\"color: #7f7f7f; text-decoration-color: #7f7f7f\">11 </span>                                                                                            <span style=\"color: #ff0000; text-decoration-color: #ff0000\">│</span>\n",
       "<span style=\"color: #ff0000; text-decoration-color: #ff0000\">│</span>   <span style=\"color: #7f7f7f; text-decoration-color: #7f7f7f\">12 </span>payload = json.dumps({<span style=\"color: #808000; text-decoration-color: #808000\">\"instances\"</span>: input_data})                                             <span style=\"color: #ff0000; text-decoration-color: #ff0000\">│</span>\n",
       "<span style=\"color: #ff0000; text-decoration-color: #ff0000\">│</span>   <span style=\"color: #7f7f7f; text-decoration-color: #7f7f7f\">13 </span>                                                                                            <span style=\"color: #ff0000; text-decoration-color: #ff0000\">│</span>\n",
       "<span style=\"color: #ff0000; text-decoration-color: #ff0000\">│</span> <span style=\"color: #800000; text-decoration-color: #800000\">❱ </span>14 response = runtime.invoke_endpoint(                                                         <span style=\"color: #ff0000; text-decoration-color: #ff0000\">│</span>\n",
       "<span style=\"color: #ff0000; text-decoration-color: #ff0000\">│</span>   <span style=\"color: #7f7f7f; text-decoration-color: #7f7f7f\">15 </span><span style=\"color: #7f7f7f; text-decoration-color: #7f7f7f\">│   </span>EndpointName=endpoint_name,                                                             <span style=\"color: #ff0000; text-decoration-color: #ff0000\">│</span>\n",
       "<span style=\"color: #ff0000; text-decoration-color: #ff0000\">│</span>   <span style=\"color: #7f7f7f; text-decoration-color: #7f7f7f\">16 </span><span style=\"color: #7f7f7f; text-decoration-color: #7f7f7f\">│   </span>ContentType=<span style=\"color: #808000; text-decoration-color: #808000\">\"application/json\"</span>,                                                         <span style=\"color: #ff0000; text-decoration-color: #ff0000\">│</span>\n",
       "<span style=\"color: #ff0000; text-decoration-color: #ff0000\">│</span>   <span style=\"color: #7f7f7f; text-decoration-color: #7f7f7f\">17 </span><span style=\"color: #7f7f7f; text-decoration-color: #7f7f7f\">│   </span>Body=payload                                                                            <span style=\"color: #ff0000; text-decoration-color: #ff0000\">│</span>\n",
       "<span style=\"color: #ff0000; text-decoration-color: #ff0000\">│</span>                                                                                                  <span style=\"color: #ff0000; text-decoration-color: #ff0000\">│</span>\n",
       "<span style=\"color: #ff0000; text-decoration-color: #ff0000\">│</span> <span style=\"color: #7f7f7f; text-decoration-color: #7f7f7f\">/home/ec2-user/anaconda3/envs/python3/lib/python3.10/site-packages/botocore/</span><span style=\"font-weight: bold\">client.py</span>:601 in     <span style=\"color: #ff0000; text-decoration-color: #ff0000\">│</span>\n",
       "<span style=\"color: #ff0000; text-decoration-color: #ff0000\">│</span> _api_call                                                                                        <span style=\"color: #ff0000; text-decoration-color: #ff0000\">│</span>\n",
       "<span style=\"color: #ff0000; text-decoration-color: #ff0000\">│</span>                                                                                                  <span style=\"color: #ff0000; text-decoration-color: #ff0000\">│</span>\n",
       "<span style=\"color: #ff0000; text-decoration-color: #ff0000\">│</span>   <span style=\"color: #7f7f7f; text-decoration-color: #7f7f7f\"> 598 </span><span style=\"color: #7f7f7f; text-decoration-color: #7f7f7f\">│   │   │   │   │   </span><span style=\"color: #808000; text-decoration-color: #808000\">f\"{</span>py_operation_name<span style=\"color: #808000; text-decoration-color: #808000\">}() only accepts keyword arguments.\"</span>              <span style=\"color: #ff0000; text-decoration-color: #ff0000\">│</span>\n",
       "<span style=\"color: #ff0000; text-decoration-color: #ff0000\">│</span>   <span style=\"color: #7f7f7f; text-decoration-color: #7f7f7f\"> 599 </span><span style=\"color: #7f7f7f; text-decoration-color: #7f7f7f\">│   │   │   │   </span>)                                                                         <span style=\"color: #ff0000; text-decoration-color: #ff0000\">│</span>\n",
       "<span style=\"color: #ff0000; text-decoration-color: #ff0000\">│</span>   <span style=\"color: #7f7f7f; text-decoration-color: #7f7f7f\"> 600 </span><span style=\"color: #7f7f7f; text-decoration-color: #7f7f7f\">│   │   │   </span><span style=\"color: #7f7f7f; text-decoration-color: #7f7f7f\"># The \"self\" in this scope is referring to the BaseClient.</span>                    <span style=\"color: #ff0000; text-decoration-color: #ff0000\">│</span>\n",
       "<span style=\"color: #ff0000; text-decoration-color: #ff0000\">│</span> <span style=\"color: #800000; text-decoration-color: #800000\">❱ </span> 601 <span style=\"color: #7f7f7f; text-decoration-color: #7f7f7f\">│   │   │   </span><span style=\"color: #0000ff; text-decoration-color: #0000ff\">return</span> <span style=\"color: #00ffff; text-decoration-color: #00ffff\">self</span>._make_api_call(operation_name, kwargs)                            <span style=\"color: #ff0000; text-decoration-color: #ff0000\">│</span>\n",
       "<span style=\"color: #ff0000; text-decoration-color: #ff0000\">│</span>   <span style=\"color: #7f7f7f; text-decoration-color: #7f7f7f\"> 602 </span><span style=\"color: #7f7f7f; text-decoration-color: #7f7f7f\">│   │   </span>                                                                                  <span style=\"color: #ff0000; text-decoration-color: #ff0000\">│</span>\n",
       "<span style=\"color: #ff0000; text-decoration-color: #ff0000\">│</span>   <span style=\"color: #7f7f7f; text-decoration-color: #7f7f7f\"> 603 </span><span style=\"color: #7f7f7f; text-decoration-color: #7f7f7f\">│   │   </span>_api_call.<span style=\"color: #ff0000; text-decoration-color: #ff0000\">__name__</span> = <span style=\"color: #00ffff; text-decoration-color: #00ffff\">str</span>(py_operation_name)                                       <span style=\"color: #ff0000; text-decoration-color: #ff0000\">│</span>\n",
       "<span style=\"color: #ff0000; text-decoration-color: #ff0000\">│</span>   <span style=\"color: #7f7f7f; text-decoration-color: #7f7f7f\"> 604 </span>                                                                                          <span style=\"color: #ff0000; text-decoration-color: #ff0000\">│</span>\n",
       "<span style=\"color: #ff0000; text-decoration-color: #ff0000\">│</span>                                                                                                  <span style=\"color: #ff0000; text-decoration-color: #ff0000\">│</span>\n",
       "<span style=\"color: #ff0000; text-decoration-color: #ff0000\">│</span> <span style=\"color: #7f7f7f; text-decoration-color: #7f7f7f\">/home/ec2-user/anaconda3/envs/python3/lib/python3.10/site-packages/botocore/</span><span style=\"font-weight: bold\">context.py</span>:123 in    <span style=\"color: #ff0000; text-decoration-color: #ff0000\">│</span>\n",
       "<span style=\"color: #ff0000; text-decoration-color: #ff0000\">│</span> wrapper                                                                                          <span style=\"color: #ff0000; text-decoration-color: #ff0000\">│</span>\n",
       "<span style=\"color: #ff0000; text-decoration-color: #ff0000\">│</span>                                                                                                  <span style=\"color: #ff0000; text-decoration-color: #ff0000\">│</span>\n",
       "<span style=\"color: #ff0000; text-decoration-color: #ff0000\">│</span>   <span style=\"color: #7f7f7f; text-decoration-color: #7f7f7f\">120 </span><span style=\"color: #7f7f7f; text-decoration-color: #7f7f7f\">│   │   │   </span><span style=\"color: #0000ff; text-decoration-color: #0000ff\">with</span> start_as_current_context():                                               <span style=\"color: #ff0000; text-decoration-color: #ff0000\">│</span>\n",
       "<span style=\"color: #ff0000; text-decoration-color: #ff0000\">│</span>   <span style=\"color: #7f7f7f; text-decoration-color: #7f7f7f\">121 </span><span style=\"color: #7f7f7f; text-decoration-color: #7f7f7f\">│   │   │   │   </span><span style=\"color: #0000ff; text-decoration-color: #0000ff\">if</span> hook:                                                                   <span style=\"color: #ff0000; text-decoration-color: #ff0000\">│</span>\n",
       "<span style=\"color: #ff0000; text-decoration-color: #ff0000\">│</span>   <span style=\"color: #7f7f7f; text-decoration-color: #7f7f7f\">122 </span><span style=\"color: #7f7f7f; text-decoration-color: #7f7f7f\">│   │   │   │   │   </span>hook()                                                                 <span style=\"color: #ff0000; text-decoration-color: #ff0000\">│</span>\n",
       "<span style=\"color: #ff0000; text-decoration-color: #ff0000\">│</span> <span style=\"color: #800000; text-decoration-color: #800000\">❱ </span>123 <span style=\"color: #7f7f7f; text-decoration-color: #7f7f7f\">│   │   │   │   </span><span style=\"color: #0000ff; text-decoration-color: #0000ff\">return</span> func(*args, **kwargs)                                               <span style=\"color: #ff0000; text-decoration-color: #ff0000\">│</span>\n",
       "<span style=\"color: #ff0000; text-decoration-color: #ff0000\">│</span>   <span style=\"color: #7f7f7f; text-decoration-color: #7f7f7f\">124 </span><span style=\"color: #7f7f7f; text-decoration-color: #7f7f7f\">│   │   </span>                                                                                   <span style=\"color: #ff0000; text-decoration-color: #ff0000\">│</span>\n",
       "<span style=\"color: #ff0000; text-decoration-color: #ff0000\">│</span>   <span style=\"color: #7f7f7f; text-decoration-color: #7f7f7f\">125 </span><span style=\"color: #7f7f7f; text-decoration-color: #7f7f7f\">│   │   </span><span style=\"color: #0000ff; text-decoration-color: #0000ff\">return</span> wrapper                                                                     <span style=\"color: #ff0000; text-decoration-color: #ff0000\">│</span>\n",
       "<span style=\"color: #ff0000; text-decoration-color: #ff0000\">│</span>   <span style=\"color: #7f7f7f; text-decoration-color: #7f7f7f\">126 </span>                                                                                           <span style=\"color: #ff0000; text-decoration-color: #ff0000\">│</span>\n",
       "<span style=\"color: #ff0000; text-decoration-color: #ff0000\">│</span>                                                                                                  <span style=\"color: #ff0000; text-decoration-color: #ff0000\">│</span>\n",
       "<span style=\"color: #ff0000; text-decoration-color: #ff0000\">│</span> <span style=\"color: #7f7f7f; text-decoration-color: #7f7f7f\">/home/ec2-user/anaconda3/envs/python3/lib/python3.10/site-packages/botocore/</span><span style=\"font-weight: bold\">client.py</span>:1074 in    <span style=\"color: #ff0000; text-decoration-color: #ff0000\">│</span>\n",
       "<span style=\"color: #ff0000; text-decoration-color: #ff0000\">│</span> _make_api_call                                                                                   <span style=\"color: #ff0000; text-decoration-color: #ff0000\">│</span>\n",
       "<span style=\"color: #ff0000; text-decoration-color: #ff0000\">│</span>                                                                                                  <span style=\"color: #ff0000; text-decoration-color: #ff0000\">│</span>\n",
       "<span style=\"color: #ff0000; text-decoration-color: #ff0000\">│</span>   <span style=\"color: #7f7f7f; text-decoration-color: #7f7f7f\">1071 </span><span style=\"color: #7f7f7f; text-decoration-color: #7f7f7f\">│   │   │   │   </span><span style=\"color: #808000; text-decoration-color: #808000\">'error_code_override'</span>                                                     <span style=\"color: #ff0000; text-decoration-color: #ff0000\">│</span>\n",
       "<span style=\"color: #ff0000; text-decoration-color: #ff0000\">│</span>   <span style=\"color: #7f7f7f; text-decoration-color: #7f7f7f\">1072 </span><span style=\"color: #7f7f7f; text-decoration-color: #7f7f7f\">│   │   │   </span>) <span style=\"color: #ff00ff; text-decoration-color: #ff00ff\">or</span> error_info.get(<span style=\"color: #808000; text-decoration-color: #808000\">\"Code\"</span>)                                                   <span style=\"color: #ff0000; text-decoration-color: #ff0000\">│</span>\n",
       "<span style=\"color: #ff0000; text-decoration-color: #ff0000\">│</span>   <span style=\"color: #7f7f7f; text-decoration-color: #7f7f7f\">1073 </span><span style=\"color: #7f7f7f; text-decoration-color: #7f7f7f\">│   │   │   </span>error_class = <span style=\"color: #00ffff; text-decoration-color: #00ffff\">self</span>.exceptions.from_code(error_code)                           <span style=\"color: #ff0000; text-decoration-color: #ff0000\">│</span>\n",
       "<span style=\"color: #ff0000; text-decoration-color: #ff0000\">│</span> <span style=\"color: #800000; text-decoration-color: #800000\">❱ </span>1074 <span style=\"color: #7f7f7f; text-decoration-color: #7f7f7f\">│   │   │   </span><span style=\"color: #0000ff; text-decoration-color: #0000ff\">raise</span> error_class(parsed_response, operation_name)                            <span style=\"color: #ff0000; text-decoration-color: #ff0000\">│</span>\n",
       "<span style=\"color: #ff0000; text-decoration-color: #ff0000\">│</span>   <span style=\"color: #7f7f7f; text-decoration-color: #7f7f7f\">1075 </span><span style=\"color: #7f7f7f; text-decoration-color: #7f7f7f\">│   │   </span><span style=\"color: #0000ff; text-decoration-color: #0000ff\">else</span>:                                                                             <span style=\"color: #ff0000; text-decoration-color: #ff0000\">│</span>\n",
       "<span style=\"color: #ff0000; text-decoration-color: #ff0000\">│</span>   <span style=\"color: #7f7f7f; text-decoration-color: #7f7f7f\">1076 </span><span style=\"color: #7f7f7f; text-decoration-color: #7f7f7f\">│   │   │   </span><span style=\"color: #0000ff; text-decoration-color: #0000ff\">return</span> parsed_response                                                        <span style=\"color: #ff0000; text-decoration-color: #ff0000\">│</span>\n",
       "<span style=\"color: #ff0000; text-decoration-color: #ff0000\">│</span>   <span style=\"color: #7f7f7f; text-decoration-color: #7f7f7f\">1077 </span>                                                                                          <span style=\"color: #ff0000; text-decoration-color: #ff0000\">│</span>\n",
       "<span style=\"color: #ff0000; text-decoration-color: #ff0000\">╰──────────────────────────────────────────────────────────────────────────────────────────────────╯</span>\n",
       "<span style=\"color: #ff0000; text-decoration-color: #ff0000; font-weight: bold\">ModelError: </span>An error occurred <span style=\"font-weight: bold\">(</span>ModelError<span style=\"font-weight: bold\">)</span> when calling the InvokeEndpoint operation: Received server error <span style=\"font-weight: bold\">(</span><span style=\"color: #008080; text-decoration-color: #008080; font-weight: bold\">500</span><span style=\"font-weight: bold\">)</span> \n",
       "from primary with message \"<span style=\"font-weight: bold\">&lt;</span><span style=\"color: #000000; text-decoration-color: #000000\">!doctype html&gt;</span>\n",
       "<span style=\"color: #000000; text-decoration-color: #000000\">&lt;html </span><span style=\"color: #d7af00; text-decoration-color: #d7af00\">lang</span><span style=\"color: #000000; text-decoration-color: #000000\">=</span><span style=\"color: #e100e1; text-decoration-color: #e100e1\">en</span><span style=\"color: #000000; text-decoration-color: #000000\">&gt;</span>\n",
       "<span style=\"color: #000000; text-decoration-color: #000000\">&lt;title&gt;</span><span style=\"color: #008080; text-decoration-color: #008080; font-weight: bold\">500</span><span style=\"color: #000000; text-decoration-color: #000000\"> Internal Server Error&lt;</span><span style=\"color: #e100e1; text-decoration-color: #e100e1\">/title</span><span style=\"color: #000000; text-decoration-color: #000000\">&gt;</span>\n",
       "<span style=\"color: #000000; text-decoration-color: #000000\">&lt;h1&gt;Internal Server Error&lt;</span><span style=\"color: #e100e1; text-decoration-color: #e100e1\">/h1</span><span style=\"color: #000000; text-decoration-color: #000000\">&gt;</span>\n",
       "<span style=\"color: #000000; text-decoration-color: #000000\">&lt;p&gt;The server encountered an internal error and was unable to complete your request. Either the server is </span>\n",
       "<span style=\"color: #000000; text-decoration-color: #000000\">overloaded or there is an error in the application.&lt;</span><span style=\"color: #e100e1; text-decoration-color: #e100e1\">/p</span><span style=\"font-weight: bold\">&gt;</span>\n",
       "\". See \n",
       "<span style=\"color: #0069ff; text-decoration-color: #0069ff; text-decoration: underline\">https://us-east-1.console.aws.amazon.com/cloudwatch/home?</span><span style=\"color: #0069ff; text-decoration-color: #0069ff; text-decoration: underline\">region</span><span style=\"color: #0069ff; text-decoration-color: #0069ff; text-decoration: underline\">=</span><span style=\"color: #0069ff; text-decoration-color: #0069ff; text-decoration: underline\">us</span><span style=\"color: #0069ff; text-decoration-color: #0069ff; text-decoration: underline\">-east-1#logEventViewer:</span><span style=\"color: #0069ff; text-decoration-color: #0069ff; text-decoration: underline\">group</span><span style=\"color: #0069ff; text-decoration-color: #0069ff; text-decoration: underline\">=/aws/sagemaker/Endpo</span>\n",
       "<span style=\"color: #0069ff; text-decoration-color: #0069ff; text-decoration: underline\">ints/fraud-ml-endpoint</span> in account <span style=\"color: #008080; text-decoration-color: #008080; font-weight: bold\">491085388405</span> for more information.\n",
       "</pre>\n"
      ],
      "text/plain": [
       "\u001b[38;2;255;0;0m╭─\u001b[0m\u001b[38;2;255;0;0m──────────────────────────────\u001b[0m\u001b[38;2;255;0;0m \u001b[0m\u001b[1;38;2;255;0;0mTraceback \u001b[0m\u001b[1;2;38;2;255;0;0m(most recent call last)\u001b[0m\u001b[38;2;255;0;0m \u001b[0m\u001b[38;2;255;0;0m───────────────────────────────\u001b[0m\u001b[38;2;255;0;0m─╮\u001b[0m\n",
       "\u001b[38;2;255;0;0m│\u001b[0m in <module>:14                                                                                   \u001b[38;2;255;0;0m│\u001b[0m\n",
       "\u001b[38;2;255;0;0m│\u001b[0m                                                                                                  \u001b[38;2;255;0;0m│\u001b[0m\n",
       "\u001b[38;2;255;0;0m│\u001b[0m   \u001b[2m11 \u001b[0m                                                                                            \u001b[38;2;255;0;0m│\u001b[0m\n",
       "\u001b[38;2;255;0;0m│\u001b[0m   \u001b[2m12 \u001b[0mpayload = json.dumps({\u001b[33m\"\u001b[0m\u001b[33minstances\u001b[0m\u001b[33m\"\u001b[0m: input_data})                                             \u001b[38;2;255;0;0m│\u001b[0m\n",
       "\u001b[38;2;255;0;0m│\u001b[0m   \u001b[2m13 \u001b[0m                                                                                            \u001b[38;2;255;0;0m│\u001b[0m\n",
       "\u001b[38;2;255;0;0m│\u001b[0m \u001b[31m❱ \u001b[0m14 response = runtime.invoke_endpoint(                                                         \u001b[38;2;255;0;0m│\u001b[0m\n",
       "\u001b[38;2;255;0;0m│\u001b[0m   \u001b[2m15 \u001b[0m\u001b[2m│   \u001b[0mEndpointName=endpoint_name,                                                             \u001b[38;2;255;0;0m│\u001b[0m\n",
       "\u001b[38;2;255;0;0m│\u001b[0m   \u001b[2m16 \u001b[0m\u001b[2m│   \u001b[0mContentType=\u001b[33m\"\u001b[0m\u001b[33mapplication/json\u001b[0m\u001b[33m\"\u001b[0m,                                                         \u001b[38;2;255;0;0m│\u001b[0m\n",
       "\u001b[38;2;255;0;0m│\u001b[0m   \u001b[2m17 \u001b[0m\u001b[2m│   \u001b[0mBody=payload                                                                            \u001b[38;2;255;0;0m│\u001b[0m\n",
       "\u001b[38;2;255;0;0m│\u001b[0m                                                                                                  \u001b[38;2;255;0;0m│\u001b[0m\n",
       "\u001b[38;2;255;0;0m│\u001b[0m \u001b[2m/home/ec2-user/anaconda3/envs/python3/lib/python3.10/site-packages/botocore/\u001b[0m\u001b[1mclient.py\u001b[0m:601 in     \u001b[38;2;255;0;0m│\u001b[0m\n",
       "\u001b[38;2;255;0;0m│\u001b[0m _api_call                                                                                        \u001b[38;2;255;0;0m│\u001b[0m\n",
       "\u001b[38;2;255;0;0m│\u001b[0m                                                                                                  \u001b[38;2;255;0;0m│\u001b[0m\n",
       "\u001b[38;2;255;0;0m│\u001b[0m   \u001b[2m 598 \u001b[0m\u001b[2m│   │   │   │   │   \u001b[0m\u001b[33mf\u001b[0m\u001b[33m\"\u001b[0m\u001b[33m{\u001b[0mpy_operation_name\u001b[33m}\u001b[0m\u001b[33m() only accepts keyword arguments.\u001b[0m\u001b[33m\"\u001b[0m              \u001b[38;2;255;0;0m│\u001b[0m\n",
       "\u001b[38;2;255;0;0m│\u001b[0m   \u001b[2m 599 \u001b[0m\u001b[2m│   │   │   │   \u001b[0m)                                                                         \u001b[38;2;255;0;0m│\u001b[0m\n",
       "\u001b[38;2;255;0;0m│\u001b[0m   \u001b[2m 600 \u001b[0m\u001b[2m│   │   │   \u001b[0m\u001b[2m# The \"self\" in this scope is referring to the BaseClient.\u001b[0m                    \u001b[38;2;255;0;0m│\u001b[0m\n",
       "\u001b[38;2;255;0;0m│\u001b[0m \u001b[31m❱ \u001b[0m 601 \u001b[2m│   │   │   \u001b[0m\u001b[94mreturn\u001b[0m \u001b[96mself\u001b[0m._make_api_call(operation_name, kwargs)                            \u001b[38;2;255;0;0m│\u001b[0m\n",
       "\u001b[38;2;255;0;0m│\u001b[0m   \u001b[2m 602 \u001b[0m\u001b[2m│   │   \u001b[0m                                                                                  \u001b[38;2;255;0;0m│\u001b[0m\n",
       "\u001b[38;2;255;0;0m│\u001b[0m   \u001b[2m 603 \u001b[0m\u001b[2m│   │   \u001b[0m_api_call.\u001b[91m__name__\u001b[0m = \u001b[96mstr\u001b[0m(py_operation_name)                                       \u001b[38;2;255;0;0m│\u001b[0m\n",
       "\u001b[38;2;255;0;0m│\u001b[0m   \u001b[2m 604 \u001b[0m                                                                                          \u001b[38;2;255;0;0m│\u001b[0m\n",
       "\u001b[38;2;255;0;0m│\u001b[0m                                                                                                  \u001b[38;2;255;0;0m│\u001b[0m\n",
       "\u001b[38;2;255;0;0m│\u001b[0m \u001b[2m/home/ec2-user/anaconda3/envs/python3/lib/python3.10/site-packages/botocore/\u001b[0m\u001b[1mcontext.py\u001b[0m:123 in    \u001b[38;2;255;0;0m│\u001b[0m\n",
       "\u001b[38;2;255;0;0m│\u001b[0m wrapper                                                                                          \u001b[38;2;255;0;0m│\u001b[0m\n",
       "\u001b[38;2;255;0;0m│\u001b[0m                                                                                                  \u001b[38;2;255;0;0m│\u001b[0m\n",
       "\u001b[38;2;255;0;0m│\u001b[0m   \u001b[2m120 \u001b[0m\u001b[2m│   │   │   \u001b[0m\u001b[94mwith\u001b[0m start_as_current_context():                                               \u001b[38;2;255;0;0m│\u001b[0m\n",
       "\u001b[38;2;255;0;0m│\u001b[0m   \u001b[2m121 \u001b[0m\u001b[2m│   │   │   │   \u001b[0m\u001b[94mif\u001b[0m hook:                                                                   \u001b[38;2;255;0;0m│\u001b[0m\n",
       "\u001b[38;2;255;0;0m│\u001b[0m   \u001b[2m122 \u001b[0m\u001b[2m│   │   │   │   │   \u001b[0mhook()                                                                 \u001b[38;2;255;0;0m│\u001b[0m\n",
       "\u001b[38;2;255;0;0m│\u001b[0m \u001b[31m❱ \u001b[0m123 \u001b[2m│   │   │   │   \u001b[0m\u001b[94mreturn\u001b[0m func(*args, **kwargs)                                               \u001b[38;2;255;0;0m│\u001b[0m\n",
       "\u001b[38;2;255;0;0m│\u001b[0m   \u001b[2m124 \u001b[0m\u001b[2m│   │   \u001b[0m                                                                                   \u001b[38;2;255;0;0m│\u001b[0m\n",
       "\u001b[38;2;255;0;0m│\u001b[0m   \u001b[2m125 \u001b[0m\u001b[2m│   │   \u001b[0m\u001b[94mreturn\u001b[0m wrapper                                                                     \u001b[38;2;255;0;0m│\u001b[0m\n",
       "\u001b[38;2;255;0;0m│\u001b[0m   \u001b[2m126 \u001b[0m                                                                                           \u001b[38;2;255;0;0m│\u001b[0m\n",
       "\u001b[38;2;255;0;0m│\u001b[0m                                                                                                  \u001b[38;2;255;0;0m│\u001b[0m\n",
       "\u001b[38;2;255;0;0m│\u001b[0m \u001b[2m/home/ec2-user/anaconda3/envs/python3/lib/python3.10/site-packages/botocore/\u001b[0m\u001b[1mclient.py\u001b[0m:1074 in    \u001b[38;2;255;0;0m│\u001b[0m\n",
       "\u001b[38;2;255;0;0m│\u001b[0m _make_api_call                                                                                   \u001b[38;2;255;0;0m│\u001b[0m\n",
       "\u001b[38;2;255;0;0m│\u001b[0m                                                                                                  \u001b[38;2;255;0;0m│\u001b[0m\n",
       "\u001b[38;2;255;0;0m│\u001b[0m   \u001b[2m1071 \u001b[0m\u001b[2m│   │   │   │   \u001b[0m\u001b[33m'\u001b[0m\u001b[33merror_code_override\u001b[0m\u001b[33m'\u001b[0m                                                     \u001b[38;2;255;0;0m│\u001b[0m\n",
       "\u001b[38;2;255;0;0m│\u001b[0m   \u001b[2m1072 \u001b[0m\u001b[2m│   │   │   \u001b[0m) \u001b[95mor\u001b[0m error_info.get(\u001b[33m\"\u001b[0m\u001b[33mCode\u001b[0m\u001b[33m\"\u001b[0m)                                                   \u001b[38;2;255;0;0m│\u001b[0m\n",
       "\u001b[38;2;255;0;0m│\u001b[0m   \u001b[2m1073 \u001b[0m\u001b[2m│   │   │   \u001b[0merror_class = \u001b[96mself\u001b[0m.exceptions.from_code(error_code)                           \u001b[38;2;255;0;0m│\u001b[0m\n",
       "\u001b[38;2;255;0;0m│\u001b[0m \u001b[31m❱ \u001b[0m1074 \u001b[2m│   │   │   \u001b[0m\u001b[94mraise\u001b[0m error_class(parsed_response, operation_name)                            \u001b[38;2;255;0;0m│\u001b[0m\n",
       "\u001b[38;2;255;0;0m│\u001b[0m   \u001b[2m1075 \u001b[0m\u001b[2m│   │   \u001b[0m\u001b[94melse\u001b[0m:                                                                             \u001b[38;2;255;0;0m│\u001b[0m\n",
       "\u001b[38;2;255;0;0m│\u001b[0m   \u001b[2m1076 \u001b[0m\u001b[2m│   │   │   \u001b[0m\u001b[94mreturn\u001b[0m parsed_response                                                        \u001b[38;2;255;0;0m│\u001b[0m\n",
       "\u001b[38;2;255;0;0m│\u001b[0m   \u001b[2m1077 \u001b[0m                                                                                          \u001b[38;2;255;0;0m│\u001b[0m\n",
       "\u001b[38;2;255;0;0m╰──────────────────────────────────────────────────────────────────────────────────────────────────╯\u001b[0m\n",
       "\u001b[1;91mModelError: \u001b[0mAn error occurred \u001b[1m(\u001b[0mModelError\u001b[1m)\u001b[0m when calling the InvokeEndpoint operation: Received server error \u001b[1m(\u001b[0m\u001b[1;36m500\u001b[0m\u001b[1m)\u001b[0m \n",
       "from primary with message \"\u001b[1m<\u001b[0m\u001b[39m!doctype html>\u001b[0m\n",
       "\u001b[39m<html \u001b[0m\u001b[38;2;215;175;0mlang\u001b[0m\u001b[39m=\u001b[0m\u001b[38;2;225;0;225men\u001b[0m\u001b[39m>\u001b[0m\n",
       "\u001b[39m<title>\u001b[0m\u001b[1;36m500\u001b[0m\u001b[39m Internal Server Error<\u001b[0m\u001b[38;2;225;0;225m/\u001b[0m\u001b[38;2;225;0;225mtitle\u001b[0m\u001b[39m>\u001b[0m\n",
       "\u001b[39m<h1>Internal Server Error<\u001b[0m\u001b[38;2;225;0;225m/\u001b[0m\u001b[38;2;225;0;225mh1\u001b[0m\u001b[39m>\u001b[0m\n",
       "\u001b[39m<p>The server encountered an internal error and was unable to complete your request. Either the server is \u001b[0m\n",
       "\u001b[39moverloaded or there is an error in the application.<\u001b[0m\u001b[38;2;225;0;225m/\u001b[0m\u001b[38;2;225;0;225mp\u001b[0m\u001b[1m>\u001b[0m\n",
       "\". See \n",
       "\u001b[4;38;2;0;105;255mhttps://us-east-1.console.aws.amazon.com/cloudwatch/home?\u001b[0m\u001b[4;38;2;0;105;255mregion\u001b[0m\u001b[4;38;2;0;105;255m=\u001b[0m\u001b[4;38;2;0;105;255mus\u001b[0m\u001b[4;38;2;0;105;255m-east-1#logEventViewer:\u001b[0m\u001b[4;38;2;0;105;255mgroup\u001b[0m\u001b[4;38;2;0;105;255m=/aws/sagemaker/Endpo\u001b[0m\n",
       "\u001b[4;38;2;0;105;255mints/fraud-ml-endpoint\u001b[0m in account \u001b[1;36m491085388405\u001b[0m for more information.\n"
      ]
     },
     "metadata": {},
     "output_type": "display_data"
    }
   ],
   "source": [
    "import boto3, json\n",
    "\n",
    "runtime = boto3.client(\"sagemaker-runtime\")\n",
    "\n",
    "endpoint_name = \"fraud-ml-endpoint\"\n",
    "\n",
    "# Example input with 10 variables\n",
    "input_data = [\n",
    "    [18.0, 1.0, 100987.0, 120870.0, 2.0, 2.0, 1.0, 1.0, 0.0, 0.0] \n",
    "]\n",
    "\n",
    "payload = json.dumps({\"instances\": input_data})\n",
    "\n",
    "response = runtime.invoke_endpoint(\n",
    "    EndpointName=endpoint_name,\n",
    "    ContentType=\"application/json\",\n",
    "    Body=payload\n",
    ")\n",
    "\n",
    "print(\"Prediction:\", response['Body'].read().decode(\"utf-8\"))\n"
   ]
  },
  {
   "cell_type": "code",
   "execution_count": 19,
   "id": "4744bde8-6836-4d45-b74e-55a678304335",
   "metadata": {},
   "outputs": [
    {
     "name": "stdout",
     "output_type": "stream",
     "text": [
      "Prediction: {\"predictions\":[0,0]}\n",
      "\n"
     ]
    }
   ],
   "source": [
    "######## Inference using two rows of Sample Data #########\n",
    "##########################################################\n",
    "import boto3\n",
    "import json\n",
    "\n",
    "# Create SageMaker runtime client\n",
    "client = boto3.client('sagemaker-runtime', region_name='us-east-1')  # update region if needed\n",
    "\n",
    "# Sample input — should match model's expected feature shape and order\n",
    "# payload = {\n",
    "#     \"inputs\": [[18.0, 1.0, 100987.0, 120870.0, 2.0, 2.0, 1.0, 1.0, 0.0, 0.0]]\n",
    "# }\n",
    "\n",
    "payload = {\n",
    "    \"inputs\": [\n",
    "        [18.0, 1.0, 100987.0, 120870.0, 2.0, 2.0, 1.0, 1.0, 0.0, 0.0],\n",
    "        [25.0, 0.0, 200000.0, 150000.0, 1.0, 3.0, 0.0, 1.0, 0.0, 1.0]\n",
    "    ]\n",
    "}\n",
    "\n",
    "# Invoke the deployed endpoint\n",
    "response = client.invoke_endpoint(\n",
    "    EndpointName='fraud-ml-endpoint',  # Make sure this matches exactly\n",
    "    Body=json.dumps(payload),\n",
    "    ContentType='application/json'\n",
    ")\n",
    "\n",
    "# Read and decode the prediction\n",
    "result = response['Body'].read().decode('utf-8')\n",
    "print(\"Prediction:\", result)\n"
   ]
  },
  {
   "cell_type": "code",
   "execution_count": null,
   "id": "d9edf249-f421-4e89-ba78-6321dde5436f",
   "metadata": {},
   "outputs": [],
   "source": []
  }
 ],
 "metadata": {
  "kernelspec": {
   "display_name": "conda_python3",
   "language": "python",
   "name": "conda_python3"
  },
  "language_info": {
   "codemirror_mode": {
    "name": "ipython",
    "version": 3
   },
   "file_extension": ".py",
   "mimetype": "text/x-python",
   "name": "python",
   "nbconvert_exporter": "python",
   "pygments_lexer": "ipython3",
   "version": "3.10.18"
  }
 },
 "nbformat": 4,
 "nbformat_minor": 5
}
