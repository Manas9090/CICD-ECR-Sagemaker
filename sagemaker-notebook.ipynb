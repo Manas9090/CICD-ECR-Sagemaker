{
 "cells": [
  {
   "cell_type": "code",
   "execution_count": 10,
   "id": "fed396b8-cdb0-4730-97cc-7e57fc953b5e",
   "metadata": {},
   "outputs": [
    {
     "name": "stdout",
     "output_type": "stream",
     "text": [
      "----!"
     ]
    }
   ],
   "source": [
    "import boto3\n",
    "from sagemaker.model import Model\n",
    "from sagemaker import get_execution_role, Session\n",
    "\n",
    "role = get_execution_role()\n",
    "session = Session()\n",
    "\n",
    "ecr_image = '491085388405.dkr.ecr.us-east-1.amazonaws.com/fraudulent-ecr-23:latest'\n",
    "\n",
    "model = Model(\n",
    "    image_uri=ecr_image,\n",
    "    role=role,\n",
    "    sagemaker_session=session\n",
    ")\n",
    "\n",
    "predictor = model.deploy(\n",
    "    initial_instance_count=1,\n",
    "    instance_type='ml.m5.large',\n",
    "    endpoint_name='fraudulent-ml-endpoint'\n",
    ")\n"
   ]
  },
  {
   "cell_type": "code",
   "execution_count": 14,
   "id": "bb3132d1-49f6-4427-b272-91bb4c7a53e0",
   "metadata": {},
   "outputs": [
    {
     "name": "stdout",
     "output_type": "stream",
     "text": [
      "Prediction: {\"predictions\":[0]}\n",
      "\n"
     ]
    }
   ],
   "source": [
    "import boto3\n",
    "import json\n",
    "\n",
    "# Create SageMaker runtime client\n",
    "client = boto3.client('sagemaker-runtime', region_name='us-east-1')  # update region if needed\n",
    "\n",
    "# Sample input — should match model's expected feature shape and order\n",
    "payload = {\n",
    "    \"inputs\": [[27.0, 1.0, 500987.0, 820870.0, 2.0, 2.0, 0.0, 0.0, 0.0, 0.0]]\n",
    "}\n",
    "\n",
    "# Invoke the deployed endpoint\n",
    "response = client.invoke_endpoint(\n",
    "    EndpointName='fraudulent-ml-endpoint',  # Make sure this matches exactly\n",
    "    Body=json.dumps(payload),\n",
    "    ContentType='application/json'\n",
    ")\n",
    "\n",
    "# Read and decode the prediction\n",
    "result = response['Body'].read().decode('utf-8')\n",
    "print(\"Prediction:\", result)\n"
   ]
  },
  {
   "cell_type": "code",
   "execution_count": 15,
   "id": "c29e7eba-d574-4694-9cc9-8c82170a97b7",
   "metadata": {},
   "outputs": [],
   "source": [
    "import boto3\n",
    "import pandas as pd\n",
    "import json\n",
    "\n",
    "# Load your CSV\n",
    "df = pd.read_csv('processed_data2.csv')  # Each row should have feature values\n",
    "\n",
    "# Convert the data to list of lists (assuming features are in columns)\n",
    "data = df.values.tolist()\n",
    "\n",
    "# Initialize SageMaker client\n",
    "client = boto3.client('sagemaker-runtime')\n",
    "\n",
    "# Predict in a loop (or you can do it in batches) \n",
    "predictions = []\n",
    "for row in data:\n",
    "    payload = json.dumps({'inputs': [row]})\n",
    "    response = client.invoke_endpoint(\n",
    "        EndpointName='fraudulent-ml-endpoint',\n",
    "        Body=payload,\n",
    "        ContentType='application/json'\n",
    "    )\n",
    "    result = json.loads(response['Body'].read().decode()) \n",
    "    predictions.append(result)\n",
    "\n",
    "# Save predictions to CSV\n",
    "df['prediction_fraudulent'] = predictions\n",
    "df.to_csv('predictions_fraudulent.csv', index=False)\n"
   ]
  },
  {
   "cell_type": "code",
   "execution_count": null,
   "id": "3f5dd038-aeb0-4161-afe1-febbc7754826",
   "metadata": {},
   "outputs": [],
   "source": []
  },
  {
   "cell_type": "code",
   "execution_count": null,
   "id": "81e1b57d-65db-47c2-a223-37a4dc90f9f9",
   "metadata": {},
   "outputs": [],
   "source": []
  },
  {
   "cell_type": "code",
   "execution_count": null,
   "id": "401801b5-d328-4b8a-8a90-3c679f8f9469",
   "metadata": {},
   "outputs": [],
   "source": []
  },
  {
   "cell_type": "code",
   "execution_count": null,
   "id": "99e9682a-6886-4a7b-b8d7-c40417005f28",
   "metadata": {},
   "outputs": [],
   "source": []
  }
 ],
 "metadata": {
  "kernelspec": {
   "display_name": "conda_python3",
   "language": "python",
   "name": "conda_python3"
  },
  "language_info": {
   "codemirror_mode": {
    "name": "ipython",
    "version": 3
   },
   "file_extension": ".py",
   "mimetype": "text/x-python",
   "name": "python",
   "nbconvert_exporter": "python",
   "pygments_lexer": "ipython3",
   "version": "3.10.18"
  }
 },
 "nbformat": 4,
 "nbformat_minor": 5
}
